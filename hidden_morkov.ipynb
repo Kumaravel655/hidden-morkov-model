{
  "nbformat": 4,
  "nbformat_minor": 0,
  "metadata": {
    "colab": {
      "provenance": []
    },
    "kernelspec": {
      "name": "python3",
      "display_name": "Python 3"
    },
    "language_info": {
      "name": "python"
    }
  },
  "cells": [
    {
      "cell_type": "code",
      "execution_count": 2,
      "metadata": {
        "id": "E3O3NvryZizI"
      },
      "outputs": [],
      "source": [
        "import numpy as np\n"
      ]
    },
    {
      "cell_type": "code",
      "source": [
        "transition_matrix = np.array([[0.7,0.3],\n",
        "                              [0.4,0.6]])\n",
        "emission_matrix = np.array([[0.1,0.9],\n",
        "                            [0.8,0.2]])\n",
        "initial_probablities = np.array([0.5,0.5])\n",
        "observed_sequence = np.array([1,1,1,0,0,1])\n",
        "alpha = np.zeros((len(observed_sequence),len(initial_probablities)))\n",
        "alpha[0,:] = initial_probablities * emission_matrix[:,observed_sequence[0]]\n",
        "for t in range(1,len(observed_sequence)):\n",
        "  for j in range(len(initial_probablities)):\n",
        "    alpha[t,j] = emission_matrix[j,observed_sequence[t]] *np.sum(alpha[t-1,:] * transition_matrix[:,j])\n",
        "probablity = np.sum(alpha[-1,:])\n",
        "print(\"The probablity of the observed sequence is:\",probablity)\n",
        "most_likely_sequence = []\n",
        "for t in range(len(observed_sequence)):\n",
        "  if alpha[t,0]>alpha[t,1]:\n",
        "    most_likely_sequence.append(\"Sunny\")\n",
        "  else:\n",
        "    most_likely_sequence.append(\"Rainy\")\n",
        "print(\"The most likely sequence of weather states is:\",most_likely_sequence)"
      ],
      "metadata": {
        "colab": {
          "base_uri": "https://localhost:8080/"
        },
        "id": "m9A6Byv6Zu0T",
        "outputId": "ef0a588d-21b8-4006-919d-b24c9dcd8a89"
      },
      "execution_count": 3,
      "outputs": [
        {
          "output_type": "stream",
          "name": "stdout",
          "text": [
            "The probablity of the observed sequence is: 0.018906881625\n",
            "The most likely sequence of weather states is: ['Sunny', 'Sunny', 'Sunny', 'Rainy', 'Rainy', 'Sunny']\n"
          ]
        }
      ]
    }
  ]
}